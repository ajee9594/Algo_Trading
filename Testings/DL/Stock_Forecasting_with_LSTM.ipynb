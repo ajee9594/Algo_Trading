{
  "cells": [
    {
      "cell_type": "code",
      "execution_count": 1,
      "id": "2a4fdd0f",
      "metadata": {
        "colab": {
          "base_uri": "https://localhost:8080/",
          "height": 423
        },
        "id": "2a4fdd0f",
        "outputId": "d758fb02-8b42-4705-d4bd-bcaa6df69ea7"
      },
      "outputs": [
        {
          "data": {
            "text/html": [
              "<div>\n",
              "<style scoped>\n",
              "    .dataframe tbody tr th:only-of-type {\n",
              "        vertical-align: middle;\n",
              "    }\n",
              "\n",
              "    .dataframe tbody tr th {\n",
              "        vertical-align: top;\n",
              "    }\n",
              "\n",
              "    .dataframe thead th {\n",
              "        text-align: right;\n",
              "    }\n",
              "</style>\n",
              "<table border=\"1\" class=\"dataframe\">\n",
              "  <thead>\n",
              "    <tr style=\"text-align: right;\">\n",
              "      <th></th>\n",
              "      <th>Date</th>\n",
              "      <th>Open</th>\n",
              "      <th>High</th>\n",
              "      <th>Low</th>\n",
              "      <th>Close</th>\n",
              "      <th>Volume</th>\n",
              "    </tr>\n",
              "  </thead>\n",
              "  <tbody>\n",
              "    <tr>\n",
              "      <th>0</th>\n",
              "      <td>2014-04-10</td>\n",
              "      <td>12937.40</td>\n",
              "      <td>13055.60</td>\n",
              "      <td>12881.20</td>\n",
              "      <td>12949.40</td>\n",
              "      <td>0</td>\n",
              "    </tr>\n",
              "    <tr>\n",
              "      <th>1</th>\n",
              "      <td>2014-04-11</td>\n",
              "      <td>12822.20</td>\n",
              "      <td>12934.90</td>\n",
              "      <td>12778.00</td>\n",
              "      <td>12840.20</td>\n",
              "      <td>0</td>\n",
              "    </tr>\n",
              "    <tr>\n",
              "      <th>2</th>\n",
              "      <td>2014-04-15</td>\n",
              "      <td>12830.50</td>\n",
              "      <td>12831.60</td>\n",
              "      <td>12537.70</td>\n",
              "      <td>12579.90</td>\n",
              "      <td>0</td>\n",
              "    </tr>\n",
              "    <tr>\n",
              "      <th>3</th>\n",
              "      <td>2014-04-16</td>\n",
              "      <td>12557.40</td>\n",
              "      <td>12727.00</td>\n",
              "      <td>12514.80</td>\n",
              "      <td>12563.20</td>\n",
              "      <td>0</td>\n",
              "    </tr>\n",
              "    <tr>\n",
              "      <th>4</th>\n",
              "      <td>2014-04-17</td>\n",
              "      <td>12564.50</td>\n",
              "      <td>12819.10</td>\n",
              "      <td>12514.80</td>\n",
              "      <td>12787.20</td>\n",
              "      <td>0</td>\n",
              "    </tr>\n",
              "    <tr>\n",
              "      <th>...</th>\n",
              "      <td>...</td>\n",
              "      <td>...</td>\n",
              "      <td>...</td>\n",
              "      <td>...</td>\n",
              "      <td>...</td>\n",
              "      <td>...</td>\n",
              "    </tr>\n",
              "    <tr>\n",
              "      <th>2465</th>\n",
              "      <td>2024-04-03</td>\n",
              "      <td>47350.25</td>\n",
              "      <td>47676.95</td>\n",
              "      <td>47279.80</td>\n",
              "      <td>47624.25</td>\n",
              "      <td>0</td>\n",
              "    </tr>\n",
              "    <tr>\n",
              "      <th>2466</th>\n",
              "      <td>2024-04-04</td>\n",
              "      <td>48086.20</td>\n",
              "      <td>48254.65</td>\n",
              "      <td>47712.70</td>\n",
              "      <td>48060.80</td>\n",
              "      <td>0</td>\n",
              "    </tr>\n",
              "    <tr>\n",
              "      <th>2467</th>\n",
              "      <td>2024-04-05</td>\n",
              "      <td>48104.65</td>\n",
              "      <td>48557.40</td>\n",
              "      <td>47894.50</td>\n",
              "      <td>48493.05</td>\n",
              "      <td>0</td>\n",
              "    </tr>\n",
              "    <tr>\n",
              "      <th>2468</th>\n",
              "      <td>2024-04-08</td>\n",
              "      <td>48586.75</td>\n",
              "      <td>48716.95</td>\n",
              "      <td>48424.65</td>\n",
              "      <td>48581.70</td>\n",
              "      <td>0</td>\n",
              "    </tr>\n",
              "    <tr>\n",
              "      <th>2469</th>\n",
              "      <td>2024-04-09</td>\n",
              "      <td>48810.80</td>\n",
              "      <td>48960.75</td>\n",
              "      <td>48568.25</td>\n",
              "      <td>48730.55</td>\n",
              "      <td>0</td>\n",
              "    </tr>\n",
              "  </tbody>\n",
              "</table>\n",
              "<p>2470 rows × 6 columns</p>\n",
              "</div>"
            ],
            "text/plain": [
              "            Date      Open      High       Low     Close  Volume\n",
              "0     2014-04-10  12937.40  13055.60  12881.20  12949.40       0\n",
              "1     2014-04-11  12822.20  12934.90  12778.00  12840.20       0\n",
              "2     2014-04-15  12830.50  12831.60  12537.70  12579.90       0\n",
              "3     2014-04-16  12557.40  12727.00  12514.80  12563.20       0\n",
              "4     2014-04-17  12564.50  12819.10  12514.80  12787.20       0\n",
              "...          ...       ...       ...       ...       ...     ...\n",
              "2465  2024-04-03  47350.25  47676.95  47279.80  47624.25       0\n",
              "2466  2024-04-04  48086.20  48254.65  47712.70  48060.80       0\n",
              "2467  2024-04-05  48104.65  48557.40  47894.50  48493.05       0\n",
              "2468  2024-04-08  48586.75  48716.95  48424.65  48581.70       0\n",
              "2469  2024-04-09  48810.80  48960.75  48568.25  48730.55       0\n",
              "\n",
              "[2470 rows x 6 columns]"
            ]
          },
          "execution_count": 1,
          "metadata": {},
          "output_type": "execute_result"
        }
      ],
      "source": [
        "import pandas as pd\n",
        "import numpy as np\n",
        "import matplotlib.pyplot as plt\n",
        "\n",
        "import torch\n",
        "import torch.nn as nn\n",
        "\n",
        "data = pd.read_csv('../../store.csv',index_col=0)\n",
        "\n",
        "data"
      ]
    },
    {
      "cell_type": "code",
      "execution_count": 2,
      "id": "WtCP8-cDbg9R",
      "metadata": {
        "colab": {
          "base_uri": "https://localhost:8080/",
          "height": 423
        },
        "id": "WtCP8-cDbg9R",
        "outputId": "1a923823-8c15-4765-c9c9-19a233dc8131"
      },
      "outputs": [
        {
          "data": {
            "text/html": [
              "<div>\n",
              "<style scoped>\n",
              "    .dataframe tbody tr th:only-of-type {\n",
              "        vertical-align: middle;\n",
              "    }\n",
              "\n",
              "    .dataframe tbody tr th {\n",
              "        vertical-align: top;\n",
              "    }\n",
              "\n",
              "    .dataframe thead th {\n",
              "        text-align: right;\n",
              "    }\n",
              "</style>\n",
              "<table border=\"1\" class=\"dataframe\">\n",
              "  <thead>\n",
              "    <tr style=\"text-align: right;\">\n",
              "      <th></th>\n",
              "      <th>Date</th>\n",
              "      <th>Close</th>\n",
              "    </tr>\n",
              "  </thead>\n",
              "  <tbody>\n",
              "    <tr>\n",
              "      <th>0</th>\n",
              "      <td>2014-04-10</td>\n",
              "      <td>12949.40</td>\n",
              "    </tr>\n",
              "    <tr>\n",
              "      <th>1</th>\n",
              "      <td>2014-04-11</td>\n",
              "      <td>12840.20</td>\n",
              "    </tr>\n",
              "    <tr>\n",
              "      <th>2</th>\n",
              "      <td>2014-04-15</td>\n",
              "      <td>12579.90</td>\n",
              "    </tr>\n",
              "    <tr>\n",
              "      <th>3</th>\n",
              "      <td>2014-04-16</td>\n",
              "      <td>12563.20</td>\n",
              "    </tr>\n",
              "    <tr>\n",
              "      <th>4</th>\n",
              "      <td>2014-04-17</td>\n",
              "      <td>12787.20</td>\n",
              "    </tr>\n",
              "    <tr>\n",
              "      <th>...</th>\n",
              "      <td>...</td>\n",
              "      <td>...</td>\n",
              "    </tr>\n",
              "    <tr>\n",
              "      <th>2465</th>\n",
              "      <td>2024-04-03</td>\n",
              "      <td>47624.25</td>\n",
              "    </tr>\n",
              "    <tr>\n",
              "      <th>2466</th>\n",
              "      <td>2024-04-04</td>\n",
              "      <td>48060.80</td>\n",
              "    </tr>\n",
              "    <tr>\n",
              "      <th>2467</th>\n",
              "      <td>2024-04-05</td>\n",
              "      <td>48493.05</td>\n",
              "    </tr>\n",
              "    <tr>\n",
              "      <th>2468</th>\n",
              "      <td>2024-04-08</td>\n",
              "      <td>48581.70</td>\n",
              "    </tr>\n",
              "    <tr>\n",
              "      <th>2469</th>\n",
              "      <td>2024-04-09</td>\n",
              "      <td>48730.55</td>\n",
              "    </tr>\n",
              "  </tbody>\n",
              "</table>\n",
              "<p>2470 rows × 2 columns</p>\n",
              "</div>"
            ],
            "text/plain": [
              "            Date     Close\n",
              "0     2014-04-10  12949.40\n",
              "1     2014-04-11  12840.20\n",
              "2     2014-04-15  12579.90\n",
              "3     2014-04-16  12563.20\n",
              "4     2014-04-17  12787.20\n",
              "...          ...       ...\n",
              "2465  2024-04-03  47624.25\n",
              "2466  2024-04-04  48060.80\n",
              "2467  2024-04-05  48493.05\n",
              "2468  2024-04-08  48581.70\n",
              "2469  2024-04-09  48730.55\n",
              "\n",
              "[2470 rows x 2 columns]"
            ]
          },
          "execution_count": 2,
          "metadata": {},
          "output_type": "execute_result"
        }
      ],
      "source": [
        "data = data[['Date', 'Close']]\n",
        "data"
      ]
    },
    {
      "cell_type": "code",
      "execution_count": 3,
      "id": "9akB333XcFJ6",
      "metadata": {
        "colab": {
          "base_uri": "https://localhost:8080/",
          "height": 36
        },
        "id": "9akB333XcFJ6",
        "outputId": "2e8630de-1369-4281-d87c-9634ed90ba97"
      },
      "outputs": [
        {
          "data": {
            "text/plain": [
              "'cpu'"
            ]
          },
          "execution_count": 3,
          "metadata": {},
          "output_type": "execute_result"
        }
      ],
      "source": [
        "device = 'cuda:0' if torch.cuda.is_available() else 'cpu'\n",
        "device"
      ]
    },
    {
      "cell_type": "code",
      "execution_count": 4,
      "id": "tr2YuqKGcXcJ",
      "metadata": {
        "colab": {
          "base_uri": "https://localhost:8080/",
          "height": 551
        },
        "id": "tr2YuqKGcXcJ",
        "outputId": "bd197a93-bf7f-413c-fac0-5f4dc1a8471d"
      },
      "outputs": [
        {
          "name": "stderr",
          "output_type": "stream",
          "text": [
            "C:\\Users\\91952\\AppData\\Local\\Temp\\ipykernel_21892\\1819287010.py:1: SettingWithCopyWarning: \n",
            "A value is trying to be set on a copy of a slice from a DataFrame.\n",
            "Try using .loc[row_indexer,col_indexer] = value instead\n",
            "\n",
            "See the caveats in the documentation: https://pandas.pydata.org/pandas-docs/stable/user_guide/indexing.html#returning-a-view-versus-a-copy\n",
            "  data['Date'] = pd.to_datetime(data['Date'])\n"
          ]
        },
        {
          "data": {
            "text/plain": [
              "[<matplotlib.lines.Line2D at 0x25947d81c10>]"
            ]
          },
          "execution_count": 4,
          "metadata": {},
          "output_type": "execute_result"
        },
        {
          "data": {
            "image/png": "[encoded data removed]",
            "text/plain": [
              "<Figure size 640x480 with 1 Axes>"
            ]
          },
          "metadata": {},
          "output_type": "display_data"
        }
      ],
      "source": [
        "data['Date'] = pd.to_datetime(data['Date'])\n",
        "\n",
        "plt.plot(data['Date'], data['Close'])"
      ]
    },
    {
      "cell_type": "code",
      "execution_count": 5,
      "id": "Q4ma6QCscwfB",
      "metadata": {
        "colab": {
          "base_uri": "https://localhost:8080/",
          "height": 455
        },
        "id": "Q4ma6QCscwfB",
        "outputId": "61bd4c08-c3f7-453d-ed92-c2232a18a5ba"
      },
      "outputs": [
        {
          "data": {
            "text/html": [
              "<div>\n",
              "<style scoped>\n",
              "    .dataframe tbody tr th:only-of-type {\n",
              "        vertical-align: middle;\n",
              "    }\n",
              "\n",
              "    .dataframe tbody tr th {\n",
              "        vertical-align: top;\n",
              "    }\n",
              "\n",
              "    .dataframe thead th {\n",
              "        text-align: right;\n",
              "    }\n",
              "</style>\n",
              "<table border=\"1\" class=\"dataframe\">\n",
              "  <thead>\n",
              "    <tr style=\"text-align: right;\">\n",
              "      <th></th>\n",
              "      <th>Close</th>\n",
              "      <th>Close(t-1)</th>\n",
              "      <th>Close(t-2)</th>\n",
              "      <th>Close(t-3)</th>\n",
              "      <th>Close(t-4)</th>\n",
              "      <th>Close(t-5)</th>\n",
              "      <th>Close(t-6)</th>\n",
              "      <th>Close(t-7)</th>\n",
              "    </tr>\n",
              "    <tr>\n",
              "      <th>Date</th>\n",
              "      <th></th>\n",
              "      <th></th>\n",
              "      <th></th>\n",
              "      <th></th>\n",
              "      <th></th>\n",
              "      <th></th>\n",
              "      <th></th>\n",
              "      <th></th>\n",
              "    </tr>\n",
              "  </thead>\n",
              "  <tbody>\n",
              "    <tr>\n",
              "      <th>2014-04-23</th>\n",
              "      <td>13122.10</td>\n",
              "      <td>12987.10</td>\n",
              "      <td>12958.50</td>\n",
              "      <td>12787.20</td>\n",
              "      <td>12563.20</td>\n",
              "      <td>12579.90</td>\n",
              "      <td>12840.20</td>\n",
              "      <td>12949.40</td>\n",
              "    </tr>\n",
              "    <tr>\n",
              "      <th>2014-04-25</th>\n",
              "      <td>13034.50</td>\n",
              "      <td>13122.10</td>\n",
              "      <td>12987.10</td>\n",
              "      <td>12958.50</td>\n",
              "      <td>12787.20</td>\n",
              "      <td>12563.20</td>\n",
              "      <td>12579.90</td>\n",
              "      <td>12840.20</td>\n",
              "    </tr>\n",
              "    <tr>\n",
              "      <th>2014-04-28</th>\n",
              "      <td>13081.50</td>\n",
              "      <td>13034.50</td>\n",
              "      <td>13122.10</td>\n",
              "      <td>12987.10</td>\n",
              "      <td>12958.50</td>\n",
              "      <td>12787.20</td>\n",
              "      <td>12563.20</td>\n",
              "      <td>12579.90</td>\n",
              "    </tr>\n",
              "    <tr>\n",
              "      <th>2014-04-29</th>\n",
              "      <td>12910.50</td>\n",
              "      <td>13081.50</td>\n",
              "      <td>13034.50</td>\n",
              "      <td>13122.10</td>\n",
              "      <td>12987.10</td>\n",
              "      <td>12958.50</td>\n",
              "      <td>12787.20</td>\n",
              "      <td>12563.20</td>\n",
              "    </tr>\n",
              "    <tr>\n",
              "      <th>2014-04-30</th>\n",
              "      <td>12855.80</td>\n",
              "      <td>12910.50</td>\n",
              "      <td>13081.50</td>\n",
              "      <td>13034.50</td>\n",
              "      <td>13122.10</td>\n",
              "      <td>12987.10</td>\n",
              "      <td>12958.50</td>\n",
              "      <td>12787.20</td>\n",
              "    </tr>\n",
              "    <tr>\n",
              "      <th>...</th>\n",
              "      <td>...</td>\n",
              "      <td>...</td>\n",
              "      <td>...</td>\n",
              "      <td>...</td>\n",
              "      <td>...</td>\n",
              "      <td>...</td>\n",
              "      <td>...</td>\n",
              "      <td>...</td>\n",
              "    </tr>\n",
              "    <tr>\n",
              "      <th>2024-04-03</th>\n",
              "      <td>47624.25</td>\n",
              "      <td>47545.45</td>\n",
              "      <td>47578.25</td>\n",
              "      <td>47124.60</td>\n",
              "      <td>46785.95</td>\n",
              "      <td>46600.20</td>\n",
              "      <td>46863.75</td>\n",
              "      <td>46684.90</td>\n",
              "    </tr>\n",
              "    <tr>\n",
              "      <th>2024-04-04</th>\n",
              "      <td>48060.80</td>\n",
              "      <td>47624.25</td>\n",
              "      <td>47545.45</td>\n",
              "      <td>47578.25</td>\n",
              "      <td>47124.60</td>\n",
              "      <td>46785.95</td>\n",
              "      <td>46600.20</td>\n",
              "      <td>46863.75</td>\n",
              "    </tr>\n",
              "    <tr>\n",
              "      <th>2024-04-05</th>\n",
              "      <td>48493.05</td>\n",
              "      <td>48060.80</td>\n",
              "      <td>47624.25</td>\n",
              "      <td>47545.45</td>\n",
              "      <td>47578.25</td>\n",
              "      <td>47124.60</td>\n",
              "      <td>46785.95</td>\n",
              "      <td>46600.20</td>\n",
              "    </tr>\n",
              "    <tr>\n",
              "      <th>2024-04-08</th>\n",
              "      <td>48581.70</td>\n",
              "      <td>48493.05</td>\n",
              "      <td>48060.80</td>\n",
              "      <td>47624.25</td>\n",
              "      <td>47545.45</td>\n",
              "      <td>47578.25</td>\n",
              "      <td>47124.60</td>\n",
              "      <td>46785.95</td>\n",
              "    </tr>\n",
              "    <tr>\n",
              "      <th>2024-04-09</th>\n",
              "      <td>48730.55</td>\n",
              "      <td>48581.70</td>\n",
              "      <td>48493.05</td>\n",
              "      <td>48060.80</td>\n",
              "      <td>47624.25</td>\n",
              "      <td>47545.45</td>\n",
              "      <td>47578.25</td>\n",
              "      <td>47124.60</td>\n",
              "    </tr>\n",
              "  </tbody>\n",
              "</table>\n",
              "<p>2463 rows × 8 columns</p>\n",
              "</div>"
            ],
            "text/plain": [
              "               Close  Close(t-1)  Close(t-2)  Close(t-3)  Close(t-4)  \\\n",
              "Date                                                                   \n",
              "2014-04-23  13122.10    12987.10    12958.50    12787.20    12563.20   \n",
              "2014-04-25  13034.50    13122.10    12987.10    12958.50    12787.20   \n",
              "2014-04-28  13081.50    13034.50    13122.10    12987.10    12958.50   \n",
              "2014-04-29  12910.50    13081.50    13034.50    13122.10    12987.10   \n",
              "2014-04-30  12855.80    12910.50    13081.50    13034.50    13122.10   \n",
              "...              ...         ...         ...         ...         ...   \n",
              "2024-04-03  47624.25    47545.45    47578.25    47124.60    46785.95   \n",
              "2024-04-04  48060.80    47624.25    47545.45    47578.25    47124.60   \n",
              "2024-04-05  48493.05    48060.80    47624.25    47545.45    47578.25   \n",
              "2024-04-08  48581.70    48493.05    48060.80    47624.25    47545.45   \n",
              "2024-04-09  48730.55    48581.70    48493.05    48060.80    47624.25   \n",
              "\n",
              "            Close(t-5)  Close(t-6)  Close(t-7)  \n",
              "Date                                            \n",
              "2014-04-23    12579.90    12840.20    12949.40  \n",
              "2014-04-25    12563.20    12579.90    12840.20  \n",
              "2014-04-28    12787.20    12563.20    12579.90  \n",
              "2014-04-29    12958.50    12787.20    12563.20  \n",
              "2014-04-30    12987.10    12958.50    12787.20  \n",
              "...                ...         ...         ...  \n",
              "2024-04-03    46600.20    46863.75    46684.90  \n",
              "2024-04-04    46785.95    46600.20    46863.75  \n",
              "2024-04-05    47124.60    46785.95    46600.20  \n",
              "2024-04-08    47578.25    47124.60    46785.95  \n",
              "2024-04-09    47545.45    47578.25    47124.60  \n",
              "\n",
              "[2463 rows x 8 columns]"
            ]
          },
          "execution_count": 5,
          "metadata": {},
          "output_type": "execute_result"
        }
      ],
      "source": [
        "from copy import deepcopy as dc\n",
        "\n",
        "def prepare_dataframe_for_lstm(df, n_steps):\n",
        "    df = dc(df)\n",
        "\n",
        "    df.set_index('Date', inplace=True)\n",
        "\n",
        "    for i in range(1, n_steps+1):\n",
        "        df[f'Close(t-{i})'] = df['Close'].shift(i)\n",
        "\n",
        "    df.dropna(inplace=True)\n",
        "\n",
        "    return df\n",
        "\n",
        "lookback = 7\n",
        "shifted_df = prepare_dataframe_for_lstm(data, lookback)\n",
        "shifted_df"
      ]
    },
    {
      "cell_type": "code",
      "execution_count": 6,
      "id": "yWcD1tHjfAU-",
      "metadata": {
        "colab": {
          "base_uri": "https://localhost:8080/"
        },
        "id": "yWcD1tHjfAU-",
        "outputId": "e10f8cdf-7b44-4c1a-d0a2-9007aac1685c"
      },
      "outputs": [
        {
          "data": {
            "text/plain": [
              "array([[13122.1 , 12987.1 , 12958.5 , ..., 12579.9 , 12840.2 , 12949.4 ],\n",
              "       [13034.5 , 13122.1 , 12987.1 , ..., 12563.2 , 12579.9 , 12840.2 ],\n",
              "       [13081.5 , 13034.5 , 13122.1 , ..., 12787.2 , 12563.2 , 12579.9 ],\n",
              "       ...,\n",
              "       [48493.05, 48060.8 , 47624.25, ..., 47124.6 , 46785.95, 46600.2 ],\n",
              "       [48581.7 , 48493.05, 48060.8 , ..., 47578.25, 47124.6 , 46785.95],\n",
              "       [48730.55, 48581.7 , 48493.05, ..., 47545.45, 47578.25, 47124.6 ]])"
            ]
          },
          "execution_count": 6,
          "metadata": {},
          "output_type": "execute_result"
        }
      ],
      "source": [
        "shifted_df_as_np = shifted_df.to_numpy()\n",
        "\n",
        "shifted_df_as_np"
      ]
    },
    {
      "cell_type": "code",
      "execution_count": 7,
      "id": "Pq2p3opGELA_",
      "metadata": {
        "colab": {
          "base_uri": "https://localhost:8080/"
        },
        "id": "Pq2p3opGELA_",
        "outputId": "5cb2ff07-5d8f-4117-eafd-6a3c5663c6ff"
      },
      "outputs": [
        {
          "data": {
            "text/plain": [
              "(2463, 8)"
            ]
          },
          "execution_count": 7,
          "metadata": {},
          "output_type": "execute_result"
        }
      ],
      "source": [
        "shifted_df_as_np.shape"
      ]
    },
    {
      "cell_type": "code",
      "execution_count": 8,
      "id": "pXHkuFeafNUU",
      "metadata": {
        "colab": {
          "base_uri": "https://localhost:8080/"
        },
        "id": "pXHkuFeafNUU",
        "outputId": "a67d1f79-d279-4c96-e40f-0d9a5f9f7d7d"
      },
      "outputs": [
        {
          "data": {
            "text/plain": [
              "array([[-0.98439056, -0.99188018, -0.99346728, ..., -0.99907081,\n",
              "        -0.98458774, -0.97851185],\n",
              "       [-0.98927234, -0.98432555, -0.99186354, ..., -1.        ,\n",
              "        -0.99907081, -0.98458774],\n",
              "       [-0.98665312, -0.98922767, -0.98429343, ..., -0.98753665,\n",
              "        -1.        , -0.99907081],\n",
              "       ...,\n",
              "       [ 0.98676458,  0.97085034,  0.95041019, ...,  0.92299432,\n",
              "         0.90415185,  0.89381673],\n",
              "       [ 0.99170488,  0.99503913,  0.97488967, ...,  0.94823538,\n",
              "         0.92299432,  0.90415185],\n",
              "       [ 1.        ,  1.        ,  0.99912804, ...,  0.94641039,\n",
              "         0.94823538,  0.92299432]])"
            ]
          },
          "execution_count": 8,
          "metadata": {},
          "output_type": "execute_result"
        }
      ],
      "source": [
        "from sklearn.preprocessing import MinMaxScaler\n",
        "\n",
        "scaler = MinMaxScaler(feature_range=(-1, 1))\n",
        "shifted_df_as_np = scaler.fit_transform(shifted_df_as_np)\n",
        "\n",
        "shifted_df_as_np"
      ]
    },
    {
      "cell_type": "code",
      "execution_count": 9,
      "id": "Iui9unuTfxOe",
      "metadata": {
        "colab": {
          "base_uri": "https://localhost:8080/"
        },
        "id": "Iui9unuTfxOe",
        "outputId": "642f093d-5071-43ef-fb9c-4c54061aec3e"
      },
      "outputs": [
        {
          "data": {
            "text/plain": [
              "((2463, 7), (2463,))"
            ]
          },
          "execution_count": 9,
          "metadata": {},
          "output_type": "execute_result"
        }
      ],
      "source": [
        "X = shifted_df_as_np[:, 1:]\n",
        "y = shifted_df_as_np[:, 0]\n",
        "\n",
        "X.shape, y.shape"
      ]
    },
    {
      "cell_type": "code",
      "execution_count": 10,
      "id": "XmbIqwj-E0cv",
      "metadata": {
        "colab": {
          "base_uri": "https://localhost:8080/"
        },
        "id": "XmbIqwj-E0cv",
        "outputId": "48ccc3a1-1b5c-49fd-ae2f-3f8b143fbb4c"
      },
      "outputs": [
        {
          "data": {
            "text/plain": [
              "array([[-0.97851185, -0.98458774, -0.99907081, ..., -1.        ,\n",
              "        -0.99346728, -0.99188018],\n",
              "       [-0.98458774, -0.99907081, -1.        , ..., -0.99040911,\n",
              "        -0.99186354, -0.98432555],\n",
              "       [-0.99907081, -1.        , -0.98753665, ..., -0.98880783,\n",
              "        -0.98429343, -0.98922767],\n",
              "       ...,\n",
              "       [ 0.89381673,  0.90415185,  0.92299432, ...,  0.94607434,\n",
              "         0.95041019,  0.97085034],\n",
              "       [ 0.90415185,  0.92299432,  0.94823538, ...,  0.95048626,\n",
              "         0.97488967,  0.99503913],\n",
              "       [ 0.92299432,  0.94823538,  0.94641039, ...,  0.97492819,\n",
              "         0.99912804,  1.        ]])"
            ]
          },
          "execution_count": 10,
          "metadata": {},
          "output_type": "execute_result"
        }
      ],
      "source": [
        "X = dc(np.flip(X, axis=1))\n",
        "X"
      ]
    },
    {
      "cell_type": "code",
      "execution_count": 11,
      "id": "GCHslawXgE21",
      "metadata": {
        "colab": {
          "base_uri": "https://localhost:8080/"
        },
        "id": "GCHslawXgE21",
        "outputId": "a2e50719-a1fb-460e-9ce4-9dd873642765"
      },
      "outputs": [
        {
          "data": {
            "text/plain": [
              "2339"
            ]
          },
          "execution_count": 11,
          "metadata": {},
          "output_type": "execute_result"
        }
      ],
      "source": [
        "split_index = int(len(X) * 0.95)\n",
        "\n",
        "split_index"
      ]
    },
    {
      "cell_type": "code",
      "execution_count": 12,
      "id": "hhGMh_nAgiST",
      "metadata": {
        "colab": {
          "base_uri": "https://localhost:8080/"
        },
        "id": "hhGMh_nAgiST",
        "outputId": "aeb231ef-e124-4821-f4ee-dbb2275c0f98"
      },
      "outputs": [
        {
          "data": {
            "text/plain": [
              "((2339, 7), (124, 7), (2339,), (124,))"
            ]
          },
          "execution_count": 12,
          "metadata": {},
          "output_type": "execute_result"
        }
      ],
      "source": [
        "X_train = X[:split_index]\n",
        "X_test = X[split_index:]\n",
        "\n",
        "y_train = y[:split_index]\n",
        "y_test = y[split_index:]\n",
        "\n",
        "X_train.shape, X_test.shape, y_train.shape, y_test.shape"
      ]
    },
    {
      "cell_type": "code",
      "execution_count": 13,
      "id": "Muqs9hKYhMUS",
      "metadata": {
        "colab": {
          "base_uri": "https://localhost:8080/"
        },
        "id": "Muqs9hKYhMUS",
        "outputId": "d35136a0-5855-4bfb-b66b-b8f7a1a8ea96"
      },
      "outputs": [
        {
          "data": {
            "text/plain": [
              "((2339, 7, 1), (124, 7, 1), (2339, 1), (124, 1))"
            ]
          },
          "execution_count": 13,
          "metadata": {},
          "output_type": "execute_result"
        }
      ],
      "source": [
        "X_train = X_train.reshape((-1, lookback, 1))\n",
        "X_test = X_test.reshape((-1, lookback, 1))\n",
        "\n",
        "y_train = y_train.reshape((-1, 1))\n",
        "y_test = y_test.reshape((-1, 1))\n",
        "\n",
        "X_train.shape, X_test.shape, y_train.shape, y_test.shape"
      ]
    },
    {
      "cell_type": "code",
      "execution_count": 14,
      "id": "i7-PBcrMhR7z",
      "metadata": {
        "colab": {
          "base_uri": "https://localhost:8080/"
        },
        "id": "i7-PBcrMhR7z",
        "outputId": "b01a297a-75d6-4573-e450-a3545360112e"
      },
      "outputs": [
        {
          "data": {
            "text/plain": [
              "(torch.Size([2339, 7, 1]),\n",
              " torch.Size([124, 7, 1]),\n",
              " torch.Size([2339, 1]),\n",
              " torch.Size([124, 1]))"
            ]
          },
          "execution_count": 14,
          "metadata": {},
          "output_type": "execute_result"
        }
      ],
      "source": [
        "X_train = torch.tensor(X_train).float()\n",
        "y_train = torch.tensor(y_train).float()\n",
        "X_test = torch.tensor(X_test).float()\n",
        "y_test = torch.tensor(y_test).float()\n",
        "\n",
        "X_train.shape, X_test.shape, y_train.shape, y_test.shape"
      ]
    },
    {
      "cell_type": "code",
      "execution_count": 15,
      "id": "DWutCAGKhdqU",
      "metadata": {
        "id": "DWutCAGKhdqU"
      },
      "outputs": [],
      "source": [
        "from torch.utils.data import Dataset\n",
        "\n",
        "class TimeSeriesDataset(Dataset):\n",
        "    def __init__(self, X, y):\n",
        "        self.X = X\n",
        "        self.y = y\n",
        "\n",
        "    def __len__(self):\n",
        "        return len(self.X)\n",
        "\n",
        "    def __getitem__(self, i):\n",
        "        return self.X[i], self.y[i]\n",
        "\n",
        "train_dataset = TimeSeriesDataset(X_train, y_train)\n",
        "test_dataset = TimeSeriesDataset(X_test, y_test)"
      ]
    },
    {
      "cell_type": "code",
      "execution_count": 16,
      "id": "12OWUTa5ijoq",
      "metadata": {
        "colab": {
          "base_uri": "https://localhost:8080/"
        },
        "id": "12OWUTa5ijoq",
        "outputId": "0928d3c2-d181-4035-cc57-a2ac6ce38075"
      },
      "outputs": [
        {
          "data": {
            "text/plain": [
              "<__main__.TimeSeriesDataset at 0x2596a383650>"
            ]
          },
          "execution_count": 16,
          "metadata": {},
          "output_type": "execute_result"
        }
      ],
      "source": [
        "train_dataset"
      ]
    },
    {
      "cell_type": "code",
      "execution_count": 17,
      "id": "XYsUmPl3ik46",
      "metadata": {
        "id": "XYsUmPl3ik46"
      },
      "outputs": [],
      "source": [
        "from torch.utils.data import DataLoader\n",
        "\n",
        "batch_size = 16\n",
        "\n",
        "train_loader = DataLoader(train_dataset, batch_size=batch_size, shuffle=True)\n",
        "test_loader = DataLoader(test_dataset, batch_size=batch_size, shuffle=False)"
      ]
    },
    {
      "cell_type": "code",
      "execution_count": 18,
      "id": "TJTnbgBDjOSK",
      "metadata": {
        "colab": {
          "base_uri": "https://localhost:8080/"
        },
        "id": "TJTnbgBDjOSK",
        "outputId": "51226616-d4de-4a22-f4d9-576fd3e8bfba"
      },
      "outputs": [
        {
          "name": "stdout",
          "output_type": "stream",
          "text": [
            "torch.Size([16, 7, 1]) torch.Size([16, 1])\n"
          ]
        }
      ],
      "source": [
        "for _, batch in enumerate(train_loader):\n",
        "    x_batch, y_batch = batch[0].to(device), batch[1].to(device)\n",
        "    print(x_batch.shape, y_batch.shape)\n",
        "    break"
      ]
    },
    {
      "cell_type": "code",
      "execution_count": 19,
      "id": "njdkq_kmjib5",
      "metadata": {
        "colab": {
          "base_uri": "https://localhost:8080/"
        },
        "id": "njdkq_kmjib5",
        "outputId": "db355c8d-cc21-43f5-cdfa-2156444b4531"
      },
      "outputs": [
        {
          "data": {
            "text/plain": [
              "LSTM(\n",
              "  (lstm): LSTM(1, 4, batch_first=True)\n",
              "  (fc): Linear(in_features=4, out_features=1, bias=True)\n",
              ")"
            ]
          },
          "execution_count": 19,
          "metadata": {},
          "output_type": "execute_result"
        }
      ],
      "source": [
        "class LSTM(nn.Module):\n",
        "    def __init__(self, input_size, hidden_size, num_stacked_layers):\n",
        "        super().__init__()\n",
        "        self.hidden_size = hidden_size\n",
        "        self.num_stacked_layers = num_stacked_layers\n",
        "\n",
        "        self.lstm = nn.LSTM(input_size, hidden_size, num_stacked_layers,\n",
        "                            batch_first=True)\n",
        "\n",
        "        self.fc = nn.Linear(hidden_size, 1)\n",
        "\n",
        "    def forward(self, x):\n",
        "        batch_size = x.size(0)\n",
        "        h0 = torch.zeros(self.num_stacked_layers, batch_size, self.hidden_size).to(device)\n",
        "        c0 = torch.zeros(self.num_stacked_layers, batch_size, self.hidden_size).to(device)\n",
        "\n",
        "        out, _ = self.lstm(x, (h0, c0))\n",
        "        out = self.fc(out[:, -1, :])\n",
        "        return out\n",
        "\n",
        "model = LSTM(1, 4, 1)\n",
        "model.to(device)\n",
        "model"
      ]
    },
    {
      "cell_type": "code",
      "execution_count": 20,
      "id": "iue5WvTxmVKB",
      "metadata": {
        "id": "iue5WvTxmVKB"
      },
      "outputs": [],
      "source": [
        "def train_one_epoch():\n",
        "    model.train(True)\n",
        "    print(f'Epoch: {epoch + 1}')\n",
        "    running_loss = 0.0\n",
        "\n",
        "    for batch_index, batch in enumerate(train_loader):\n",
        "        x_batch, y_batch = batch[0].to(device), batch[1].to(device)\n",
        "\n",
        "        output = model(x_batch)\n",
        "        loss = loss_function(output, y_batch)\n",
        "        running_loss += loss.item()\n",
        "\n",
        "        optimizer.zero_grad()\n",
        "        loss.backward()\n",
        "        optimizer.step()\n",
        "\n",
        "        if batch_index % 100 == 99: \n",
        "            avg_loss_across_batches = running_loss / 100\n",
        "            print('Batch {0}, Loss: {1:.3f}'.format(batch_index+1,\n",
        "                                                    avg_loss_across_batches))\n",
        "            running_loss = 0.0\n",
        "    print()"
      ]
    },
    {
      "cell_type": "code",
      "execution_count": 21,
      "id": "gRmNuV3cmy-t",
      "metadata": {
        "id": "gRmNuV3cmy-t"
      },
      "outputs": [],
      "source": [
        "def validate_one_epoch():\n",
        "    model.train(False)\n",
        "    running_loss = 0.0\n",
        "\n",
        "    for batch_index, batch in enumerate(test_loader):\n",
        "        x_batch, y_batch = batch[0].to(device), batch[1].to(device)\n",
        "\n",
        "        with torch.no_grad():\n",
        "            output = model(x_batch)\n",
        "            loss = loss_function(output, y_batch)\n",
        "            running_loss += loss.item()\n",
        "\n",
        "    avg_loss_across_batches = running_loss / len(test_loader)\n",
        "\n",
        "    print('Val Loss: {0:.3f}'.format(avg_loss_across_batches))\n",
        "    print('***************************************************')\n",
        "    print()"
      ]
    },
    {
      "cell_type": "code",
      "execution_count": 22,
      "id": "1jgb1aJ3lxlQ",
      "metadata": {
        "colab": {
          "base_uri": "https://localhost:8080/"
        },
        "id": "1jgb1aJ3lxlQ",
        "outputId": "2a25db36-4872-44e4-feca-4d26bad49f96"
      },
      "outputs": [
        {
          "name": "stdout",
          "output_type": "stream",
          "text": [
            "Epoch: 1\n",
            "Batch 100, Loss: 0.508\n",
            "\n",
            "Val Loss: 0.494\n",
            "***************************************************\n",
            "\n",
            "Epoch: 2\n",
            "Batch 100, Loss: 0.235\n",
            "\n",
            "Val Loss: 0.588\n",
            "***************************************************\n",
            "\n",
            "Epoch: 3\n",
            "Batch 100, Loss: 0.094\n",
            "\n",
            "Val Loss: 0.150\n",
            "***************************************************\n",
            "\n",
            "Epoch: 4\n",
            "Batch 100, Loss: 0.010\n",
            "\n",
            "Val Loss: 0.088\n",
            "***************************************************\n",
            "\n",
            "Epoch: 5\n",
            "Batch 100, Loss: 0.007\n",
            "\n",
            "Val Loss: 0.062\n",
            "***************************************************\n",
            "\n",
            "Epoch: 6\n",
            "Batch 100, Loss: 0.005\n",
            "\n",
            "Val Loss: 0.045\n",
            "***************************************************\n",
            "\n",
            "Epoch: 7\n",
            "Batch 100, Loss: 0.004\n",
            "\n",
            "Val Loss: 0.034\n",
            "***************************************************\n",
            "\n",
            "Epoch: 8\n",
            "Batch 100, Loss: 0.003\n",
            "\n",
            "Val Loss: 0.029\n",
            "***************************************************\n",
            "\n",
            "Epoch: 9\n",
            "Batch 100, Loss: 0.003\n",
            "\n",
            "Val Loss: 0.023\n",
            "***************************************************\n",
            "\n",
            "Epoch: 10\n",
            "Batch 100, Loss: 0.002\n",
            "\n",
            "Val Loss: 0.020\n",
            "***************************************************\n",
            "\n"
          ]
        }
      ],
      "source": [
        "learning_rate = 0.001\n",
        "num_epochs = 10\n",
        "loss_function = nn.MSELoss()\n",
        "optimizer = torch.optim.Adam(model.parameters(), lr=learning_rate)\n",
        "\n",
        "for epoch in range(num_epochs):\n",
        "    train_one_epoch()\n",
        "    validate_one_epoch()"
      ]
    },
    {
      "cell_type": "code",
      "execution_count": 23,
      "id": "-Xon2PHWno7t",
      "metadata": {
        "colab": {
          "base_uri": "https://localhost:8080/",
          "height": 449
        },
        "id": "-Xon2PHWno7t",
        "outputId": "862b1d87-3e42-4fe1-8618-3cf0720e0da5"
      },
      "outputs": [
        {
          "data": {
            "image/png": "[encoded data removed]",
            "text/plain": [
              "<Figure size 640x480 with 1 Axes>"
            ]
          },
          "metadata": {},
          "output_type": "display_data"
        }
      ],
      "source": [
        "with torch.no_grad():\n",
        "    predicted = model(X_train.to(device)).to('cpu').numpy()\n",
        "\n",
        "plt.plot(y_train, label='Actual Close')\n",
        "plt.plot(predicted, label='Predicted Close')\n",
        "plt.xlabel('Day')\n",
        "plt.ylabel('Close')\n",
        "plt.legend()\n",
        "plt.show()\n"
      ]
    },
    {
      "cell_type": "code",
      "execution_count": 24,
      "id": "d3SDgEvPpOcD",
      "metadata": {
        "colab": {
          "base_uri": "https://localhost:8080/"
        },
        "id": "d3SDgEvPpOcD",
        "outputId": "e9b8491e-b15e-4aa5-ae97-6619bb4a3be9"
      },
      "outputs": [
        {
          "data": {
            "text/plain": [
              "array([15118.1330449 , 15145.64860044, 15160.81499154, ...,\n",
              "       42833.4357311 , 42848.73902616, 42757.0722032 ])"
            ]
          },
          "execution_count": 24,
          "metadata": {},
          "output_type": "execute_result"
        }
      ],
      "source": [
        "train_predictions = predicted.flatten()\n",
        "\n",
        "dummies = np.zeros((X_train.shape[0], lookback+1))\n",
        "dummies[:, 0] = train_predictions\n",
        "dummies = scaler.inverse_transform(dummies)\n",
        "\n",
        "train_predictions = dc(dummies[:, 0])\n",
        "train_predictions"
      ]
    },
    {
      "cell_type": "code",
      "execution_count": 25,
      "id": "PHnvejOdrL7Q",
      "metadata": {
        "colab": {
          "base_uri": "https://localhost:8080/"
        },
        "id": "PHnvejOdrL7Q",
        "outputId": "952cb861-3f21-42d2-f1b2-9e489c9cdcd7"
      },
      "outputs": [
        {
          "data": {
            "text/plain": [
              "array([13122.10014116, 13034.49979344, 13081.49956243, ...,\n",
              "       44360.60040254, 43886.49987227, 44360.09984746])"
            ]
          },
          "execution_count": 25,
          "metadata": {},
          "output_type": "execute_result"
        }
      ],
      "source": [
        "dummies = np.zeros((X_train.shape[0], lookback+1))\n",
        "dummies[:, 0] = y_train.flatten()\n",
        "dummies = scaler.inverse_transform(dummies)\n",
        "\n",
        "new_y_train = dc(dummies[:, 0])\n",
        "new_y_train"
      ]
    },
    {
      "cell_type": "code",
      "execution_count": 26,
      "id": "2LlDAUtyrcrN",
      "metadata": {
        "colab": {
          "base_uri": "https://localhost:8080/",
          "height": 449
        },
        "id": "2LlDAUtyrcrN",
        "outputId": "819c2ff2-be0d-4781-d164-915936251f66"
      },
      "outputs": [
        {
          "data": {
            "image/png": "[encoded data removed]",
            "text/plain": [
              "<Figure size 640x480 with 1 Axes>"
            ]
          },
          "metadata": {},
          "output_type": "display_data"
        }
      ],
      "source": [
        "plt.plot(new_y_train, label='Actual Close')\n",
        "plt.plot(train_predictions, label='Predicted Close')\n",
        "plt.xlabel('Day')\n",
        "plt.ylabel('Close')\n",
        "plt.legend()\n",
        "plt.show()\n"
      ]
    },
    {
      "cell_type": "code",
      "execution_count": 27,
      "id": "yYeC2JMorftR",
      "metadata": {
        "colab": {
          "base_uri": "https://localhost:8080/"
        },
        "id": "yYeC2JMorftR",
        "outputId": "94df7137-866f-42aa-cb02-5a78961f6779"
      },
      "outputs": [
        {
          "data": {
            "text/plain": [
              "array([42807.56088388, 42860.52132266, 42914.17376815, 42890.56960135,\n",
              "       42865.56965595, 42886.22931819, 42792.38379716, 42703.91817367,\n",
              "       42635.54106624, 42464.08169917, 42290.63080739, 42052.46712807,\n",
              "       42005.8395667 , 42024.58150403, 41991.03361803, 41941.80381199,\n",
              "       41991.07212227, 42090.44514043, 42226.7073567 , 42333.22504994,\n",
              "       42385.1266222 , 42432.19912142, 42495.31719182, 42568.6249807 ,\n",
              "       42588.40118461, 42666.6888548 , 42703.93528666, 42609.64161909,\n",
              "       42556.76888441, 42539.08153535, 42469.69690039, 42455.10593371,\n",
              "       42478.83523929, 42516.4784787 , 42694.20441034, 42783.76526546,\n",
              "       42917.15677695, 43332.23459025, 43687.02546413, 43878.94341577,\n",
              "       44014.25799998, 44177.04107901, 44287.42416981, 44316.28737364,\n",
              "       44322.61490324, 44437.34041632, 44575.23692353, 44610.54316968,\n",
              "       44638.2683594 , 44581.64787898, 44624.93091955, 44582.21902516,\n",
              "       44596.09124608, 44694.37117174, 44790.31517369, 44813.67441076,\n",
              "       44828.99481882, 44755.30840494, 44708.69902613, 44760.67546774,\n",
              "       44772.37861665, 44655.27439738, 44556.59231636, 44515.12967055,\n",
              "       44501.63607463, 44538.91459336, 44632.94835733, 44682.05623329,\n",
              "       44354.66326312, 44110.65121803, 43942.25079866, 43890.59094744,\n",
              "       43639.11335863, 43496.64340372, 43353.63011124, 43398.29288696,\n",
              "       43404.05675732, 43534.88025012, 43644.73069898, 43686.76342141,\n",
              "       43692.57649162, 43675.65815774, 43684.8906181 , 43529.54099593,\n",
              "       43556.08538905, 43407.51465171, 43448.69493311, 43543.63675534,\n",
              "       43662.09610984, 43768.09185675, 43875.28658282, 44044.49879985,\n",
              "       44140.75297482, 44183.0017488 , 44189.77956406, 44149.75547933,\n",
              "       44127.54495199, 43991.67740414, 43936.1029555 , 44113.65454851,\n",
              "       44210.09910554, 44307.1982346 , 44395.73444918, 44523.1535257 ,\n",
              "       44583.90679422, 44535.50269014, 44494.36733035, 44411.8976722 ,\n",
              "       44324.89520972, 44230.92989772, 44163.07259749, 44082.20300431,\n",
              "       44021.99521248, 44053.13658367, 44102.37280709, 44085.330404  ,\n",
              "       44117.09853859, 44197.73496723, 44329.99916024, 44404.13051196,\n",
              "       44466.37688922, 44583.53886484, 44731.15983101, 44834.41963798])"
            ]
          },
          "execution_count": 27,
          "metadata": {},
          "output_type": "execute_result"
        }
      ],
      "source": [
        "test_predictions = model(X_test.to(device)).detach().cpu().numpy().flatten()\n",
        "\n",
        "dummies = np.zeros((X_test.shape[0], lookback+1))\n",
        "dummies[:, 0] = test_predictions\n",
        "dummies = scaler.inverse_transform(dummies)\n",
        "\n",
        "test_predictions = dc(dummies[:, 0])\n",
        "test_predictions"
      ]
    },
    {
      "cell_type": "code",
      "execution_count": 28,
      "id": "g-DJXBgYsFyI",
      "metadata": {
        "colab": {
          "base_uri": "https://localhost:8080/"
        },
        "id": "g-DJXBgYsFyI",
        "outputId": "b606685e-137b-41ef-8a56-6171133ed013"
      },
      "outputs": [
        {
          "data": {
            "text/plain": [
              "array([44516.89979589, 44599.20046322, 44287.90012496, 44225.89974699,\n",
              "       44409.49971389, 43888.69996158, 43754.49986111, 43723.09965589,\n",
              "       43151.20050292, 42832.00037872, 42280.09989859, 42782.00048793,\n",
              "       43039.09969533, 42845.90040825, 42700.89986932, 43017.20041057,\n",
              "       43318.19979589, 43619.40025889, 43737.90025674, 43658.59971121,\n",
              "       43683.5996566 , 43820.10038523, 43996.5995291 , 43891.1995283 ,\n",
              "       44201.69983408, 44161.59981043, 43583.90042199, 43584.90046259,\n",
              "       43689.10041468, 43449.59978268, 43577.50016216, 43769.10045385,\n",
              "       43880.89964492, 44566.40020116, 44481.79997523, 44814.19956577,\n",
              "       46431.39997791, 47012.20002699, 46834.60030368, 46841.39951019,\n",
              "       47261.9994728 , 47314.20052247, 47097.60028539, 47092.20006616,\n",
              "       47732.2998488 , 48143.59996864, 47867.69999799, 47870.90012791,\n",
              "       47445.2999623 , 47840.09994704, 47491.89971505, 47724.89954838,\n",
              "       48282.20024774, 48508.59981311, 48292.19958416, 48234.29990743,\n",
              "       47761.60050355, 47704.89980597, 48195.90048758, 48158.99952429,\n",
              "       47450.19962645, 47242.59975476, 47360.8997445 , 47438.40021695,\n",
              "       47709.79947013, 48158.30003065, 48125.09975235, 46064.40005224,\n",
              "       45713.59971469, 45701.099742  , 46058.19980053, 45015.09970024,\n",
              "       45082.39975859, 44866.10006848, 45442.40046964, 45367.79958014,\n",
              "       45996.80051649, 46188.59974673, 45970.89999977, 45825.59998344,\n",
              "       45690.79985862, 45818.50022998, 45012.00010916, 45634.59971612,\n",
              "       44882.20018733, 45502.39969685, 45908.29959745, 46218.90044207,\n",
              "       46384.89969444, 46535.50046072, 47094.20014736, 47019.69979669,\n",
              "       46919.7994844 , 46811.75017818, 46576.49998612, 46588.05018764,\n",
              "       45963.14995253, 46120.89967213, 47286.89994892, 47297.50037926,\n",
              "       47456.10040076, 47580.99958889, 47965.40022097, 47835.80030725,\n",
              "       47327.85027446, 47282.400301  , 46981.30037685, 46789.9503627 ,\n",
              "       46594.09963109, 46575.89996176, 46384.80022516, 46310.89989886,\n",
              "       46684.90010872, 46863.75015017, 46600.20041352, 46785.95020031,\n",
              "       47124.60031198, 47578.24974463, 47545.44948257, 47624.24947302,\n",
              "       48060.79981579, 48493.05051876, 48581.70010694, 48730.55      ])"
            ]
          },
          "execution_count": 28,
          "metadata": {},
          "output_type": "execute_result"
        }
      ],
      "source": [
        "dummies = np.zeros((X_test.shape[0], lookback+1))\n",
        "dummies[:, 0] = y_test.flatten()\n",
        "dummies = scaler.inverse_transform(dummies)\n",
        "\n",
        "new_y_test = dc(dummies[:, 0])\n",
        "new_y_test"
      ]
    },
    {
      "cell_type": "code",
      "execution_count": 29,
      "id": "PhLmIlHOsSK4",
      "metadata": {
        "colab": {
          "base_uri": "https://localhost:8080/",
          "height": 449
        },
        "id": "PhLmIlHOsSK4",
        "outputId": "09c21535-ea22-4d65-bc50-b159bd4dc135"
      },
      "outputs": [
        {
          "data": {
            "image/png": "[encoded data removed]",
            "text/plain": [
              "<Figure size 640x480 with 1 Axes>"
            ]
          },
          "metadata": {},
          "output_type": "display_data"
        }
      ],
      "source": [
        "plt.plot(new_y_test, label='Actual Close')\n",
        "plt.plot(test_predictions, label='Predicted Close')\n",
        "plt.xlabel('Day')\n",
        "plt.ylabel('Close')\n",
        "plt.legend()\n",
        "plt.show()\n"
      ]
    },
    {
      "cell_type": "code",
      "execution_count": null,
      "id": "-CuelDg2seDP",
      "metadata": {
        "id": "-CuelDg2seDP"
      },
      "outputs": [],
      "source": []
    }
  ],
  "metadata": {
    "colab": {
      "gpuType": "T4",
      "provenance": []
    },
    "gpuClass": "standard",
    "kernelspec": {
      "display_name": "Python 3",
      "name": "python3"
    },
    "language_info": {
      "codemirror_mode": {
        "name": "ipython",
        "version": 3
      },
      "file_extension": ".py",
      "mimetype": "text/x-python",
      "name": "python",
      "nbconvert_exporter": "python",
      "pygments_lexer": "ipython3",
      "version": "3.11.6"
    }
  },
  "nbformat": 4,
  "nbformat_minor": 5
}
