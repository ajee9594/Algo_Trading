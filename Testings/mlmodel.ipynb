{
 "cells": [
  {
   "cell_type": "code",
   "execution_count": null,
   "metadata": {},
   "outputs": [],
   "source": [
    "import numpy as np \n",
    "import pandas as pd \n",
    "import matplotlib.pyplot as plt \n",
    "from arch import arch_model\n",
    "\n",
    "prices = pd.read_csv(\"store.csv\")\n",
    "\n",
    "# prices.tail()\n",
    "\n",
    "# gch=arch_model(prices[-200:][\"Close\"],p=1,q=0)\n",
    "\n",
    "# res=gch.fit(update_freq=5,disp=\"off\")\n",
    "\n",
    "# res.plot()\n",
    "\n",
    "prices[\"DateTime\"]=pd.to_datetime(prices[\"DateTime\"])\n",
    "wind_size=10\n",
    "# plt.plot(prices[-wind_size:][\"DateTime\"],prices[-wind_size:][\"Close\"])\n",
    "# plt.show()\n",
    "\n",
    "# forecast=res.forecast(horizon=5)\n",
    "\n",
    "# forecast.variance\n"
   ]
  },
  {
   "cell_type": "code",
   "execution_count": null,
   "metadata": {},
   "outputs": [],
   "source": [
    "means=prices[\"Close\"].rolling(window=wind_size).mean()\n",
    "std=prices[\"Close\"].rolling(window=wind_size).std()\n",
    "plt.plot(prices[\"DateTime\"],prices[\"Close\"],label='price')\n",
    "plt.plot(prices[\"DateTime\"],means,label='rolling average')\n",
    "plt.plot(prices[\"DateTime\"],std,label='rolling std. dev.')\n",
    "plt.title(\"Mean and Standard Deviation Plot\")\n",
    "plt.xlabel(\"Date\")\n",
    "plt.ylabel(\"Price\")\n",
    "plt.legend(loc='best')\n",
    "plt.show(block=False)"
   ]
  },
  {
   "cell_type": "code",
   "execution_count": null,
   "metadata": {},
   "outputs": [],
   "source": [
    "from statsmodels.tsa.stattools import adfuller\n",
    "aprices_test = adfuller(prices[\"Close\"],autolag='AIC')\n",
    "df_output = pd.Series(aprices_test[0:4],index=[\"Test Static\",'p-value','#Lags Used','Number of Observations Used'])\n",
    "for key,value in aprices_test[4].items():\n",
    "    df_output['Critical Value (%s)'%key]=value\n",
    "print(df_output)"
   ]
  },
  {
   "cell_type": "code",
   "execution_count": null,
   "metadata": {},
   "outputs": [],
   "source": [
    "prices_lg = np.log(prices[\"Close\"])\n",
    "plt.plot(prices_lg)"
   ]
  },
  {
   "cell_type": "code",
   "execution_count": null,
   "metadata": {},
   "outputs": [],
   "source": [
    "means_lg=prices_lg.rolling(window=wind_size).mean()\n",
    "std_lg=prices_lg.rolling(window=wind_size).std()\n",
    "plt.plot(prices[\"DateTime\"],prices_lg,label='log_price')\n",
    "plt.plot(prices[\"DateTime\"],means_lg,label='lg_rolling average')\n",
    "plt.plot(prices[\"DateTime\"],std_lg,label='lg_rolling std. dev.')\n",
    "plt.title(\"Mean and Standard Deviation Plot\")\n",
    "plt.xlabel(\"Date\")\n",
    "plt.ylabel(\"Log Price\")\n",
    "plt.legend(loc='best')\n",
    "plt.show(block=False)"
   ]
  },
  {
   "cell_type": "code",
   "execution_count": null,
   "metadata": {},
   "outputs": [],
   "source": [
    "mod_dat=prices_lg-means_lg\n",
    "mod_dat.tail()\n",
    "mod_dat.dropna(inplace=True)\n",
    "mod_dat.head()"
   ]
  },
  {
   "cell_type": "code",
   "execution_count": null,
   "metadata": {},
   "outputs": [],
   "source": [
    "def test_stat(mod_dat):\n",
    "    means_lg=mod_dat.rolling(window=wind_size).mean()\n",
    "    std_lg=mod_dat.rolling(window=wind_size).std()\n",
    "    plt.plot(mod_dat,label='log_price')\n",
    "    plt.plot(means_lg,label='lg_rolling average')\n",
    "    plt.plot(std_lg,label='lg_rolling std. dev.')\n",
    "    plt.title(\"Mean and Standard Deviation Plot\")\n",
    "    plt.xlabel(\"Date\")\n",
    "    plt.ylabel(\"Log Price\")\n",
    "    plt.legend(loc='best')\n",
    "    plt.show(block=False)\n",
    "    aprices_test = adfuller(mod_dat,autolag='AIC')\n",
    "    df_output = pd.Series(aprices_test[0:4],index=[\"Test Static\",'p-value','#Lags Used','Number of Observations Used'])\n",
    "    for key,value in aprices_test[4].items():\n",
    "        df_output['Critical Value (%s)'%key]=value\n",
    "    print(df_output)"
   ]
  },
  {
   "cell_type": "code",
   "execution_count": null,
   "metadata": {},
   "outputs": [],
   "source": [
    "test_stat(mod_dat)"
   ]
  },
  {
   "cell_type": "code",
   "execution_count": null,
   "metadata": {},
   "outputs": [],
   "source": [
    "edwa=prices_lg.ewm(halflife=wind_size,min_periods=0,adjust=True).mean()\n",
    "plt.plot(prices_lg)\n",
    "plt.plot(edwa,color='red')"
   ]
  },
  {
   "cell_type": "code",
   "execution_count": null,
   "metadata": {},
   "outputs": [],
   "source": [
    "minmovavexpdecayave = prices_lg-edwa\n",
    "test_stat(minmovavexpdecayave)"
   ]
  },
  {
   "cell_type": "code",
   "execution_count": null,
   "metadata": {},
   "outputs": [],
   "source": [
    "dlds = prices_lg-prices_lg.shift()\n",
    "plt.plot(dlds)"
   ]
  },
  {
   "cell_type": "code",
   "execution_count": null,
   "metadata": {},
   "outputs": [],
   "source": [
    "dlds.dropna(inplace=True)\n",
    "test_stat(dlds)"
   ]
  },
  {
   "cell_type": "code",
   "execution_count": null,
   "metadata": {},
   "outputs": [],
   "source": [
    "from statsmodels.tsa.seasonal import seasonal_decompose\n",
    "decom = seasonal_decompose(prices_lg,period=len(prices_lg)//5)\n",
    "\n",
    "trend = decom.trend\n",
    "seasonal = decom.seasonal\n",
    "residual = decom.resid\n",
    "\n",
    "plt.subplot(221)\n",
    "plt.plot(prices_lg,label='Original')\n",
    "plt.legend(loc='best')\n",
    "plt.subplot(222)\n",
    "plt.plot(trend,label='Trend')\n",
    "plt.legend(loc='best')\n",
    "plt.subplot(223)\n",
    "plt.plot(seasonal,label='Seasonality')\n",
    "plt.legend(loc='best')\n",
    "plt.subplot(224)\n",
    "plt.plot(residual,label='Residuals')\n",
    "plt.legend(loc='best')\n"
   ]
  },
  {
   "cell_type": "code",
   "execution_count": null,
   "metadata": {},
   "outputs": [],
   "source": [
    "declogdat = residual\n",
    "declogdat.dropna(inplace=True)\n",
    "test_stat(declogdat)"
   ]
  },
  {
   "cell_type": "code",
   "execution_count": null,
   "metadata": {},
   "outputs": [],
   "source": [
    "from statsmodels.tsa.stattools import acf, pacf\n",
    "acf_original = acf(dlds,nlags=20)\n",
    "pacf_original = pacf(dlds,nlags=20,method='ols')\n",
    "\n",
    "plt.subplot(211)\n",
    "plt.plot(acf_original)\n",
    "plt.axhline(y=0,linestyle='--',color='gray')\n",
    "plt.axhline(y=-1.96/np.sqrt(len(dlds)),linestyle='--',color='gray')\n",
    "plt.axhline(y=1.96/np.sqrt(len(dlds)),linestyle='--',color='gray')\n",
    "plt.title('Auto-Correlation Function')\n",
    "plt.subplot(212)\n",
    "plt.plot(pacf_original)\n",
    "plt.axhline(y=0,linestyle='--',color='gray')\n",
    "plt.axhline(y=-1.96/np.sqrt(len(dlds)),linestyle='--',color='gray')\n",
    "plt.axhline(y=1.96/np.sqrt(len(dlds)),linestyle='--',color='gray')\n",
    "plt.title('Partial-Correlation Function')\n",
    "plt.tight_layout()"
   ]
  },
  {
   "cell_type": "code",
   "execution_count": null,
   "metadata": {},
   "outputs": [],
   "source": [
    "from statsmodels.tsa.arima.model import ARIMA\n",
    "model = ARIMA(prices_lg, order=(2,1,2))\n",
    "model_fit = model.fit()\n",
    "plt.plot(dlds)\n",
    "plt.plot(model_fit.fittedvalues,color='red')\n"
   ]
  },
  {
   "cell_type": "code",
   "execution_count": null,
   "metadata": {},
   "outputs": [],
   "source": [
    "from statsmodels.tsa.arima.model import ARIMA\n",
    "model = ARIMA(prices_lg, order=(2,1,2))\n",
    "model_fit_MA = model.fit()\n",
    "plt.plot(dlds)\n",
    "plt.plot(model_fit_MA.fittedvalues,color='blue')\n",
    "plt.title('RSS: %.4f'% sum((model_fit_MA.fittedvalues)-dlds)**2)\n"
   ]
  },
  {
   "cell_type": "code",
   "execution_count": null,
   "metadata": {},
   "outputs": [],
   "source": []
  },
  {
   "cell_type": "code",
   "execution_count": null,
   "metadata": {},
   "outputs": [],
   "source": []
  },
  {
   "cell_type": "code",
   "execution_count": null,
   "metadata": {},
   "outputs": [],
   "source": []
  },
  {
   "cell_type": "code",
   "execution_count": null,
   "metadata": {},
   "outputs": [],
   "source": []
  }
 ],
 "metadata": {
  "kernelspec": {
   "display_name": "Python 3",
   "language": "python",
   "name": "python3"
  },
  "language_info": {
   "codemirror_mode": {
    "name": "ipython",
    "version": 3
   },
   "file_extension": ".py",
   "mimetype": "text/x-python",
   "name": "python",
   "nbconvert_exporter": "python",
   "pygments_lexer": "ipython3",
   "version": "3.11.2"
  }
 },
 "nbformat": 4,
 "nbformat_minor": 2
}
